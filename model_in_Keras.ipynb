{
 "cells": [
  {
   "cell_type": "markdown",
   "source": [
    "# Sequential API vs Functional API model in Keras\n",
    "\n"
   ],
   "metadata": {}
  },
  {
   "cell_type": "raw",
   "source": [
    "https://hanifi.medium.com/sequential-api-vs-functional-api-model-in-keras-266823d7cd5e"
   ],
   "metadata": {}
  },
  {
   "cell_type": "code",
   "execution_count": 1,
   "source": [
    "import tensorflow\r\n",
    "from tensorflow import keras\r\n",
    "from tensorflow.keras.models import Sequential\r\n",
    "from tensorflow.keras.datasets import mnist  "
   ],
   "outputs": [],
   "metadata": {
    "collapsed": true
   }
  },
  {
   "cell_type": "code",
   "execution_count": 2,
   "source": [
    "tensorflow.keras.__version__"
   ],
   "outputs": [
    {
     "output_type": "execute_result",
     "data": {
      "text/plain": [
       "'2.3.0-tf'"
      ]
     },
     "metadata": {},
     "execution_count": 2
    }
   ],
   "metadata": {}
  },
  {
   "cell_type": "code",
   "execution_count": 3,
   "source": [
    "(x_train_full, y_train_full), (x_test, y_test) = mnist.load_data()"
   ],
   "outputs": [],
   "metadata": {}
  },
  {
   "cell_type": "code",
   "execution_count": 4,
   "source": [
    "X_valid, X_train = x_train_full[:5000] / 255.0, x_train_full[5000:] / 255.0\r\n",
    "y_valid, y_train = y_train_full[:5000], y_train_full[5000:]"
   ],
   "outputs": [],
   "metadata": {}
  },
  {
   "cell_type": "markdown",
   "source": [
    "## Creating Sequential API model:"
   ],
   "metadata": {}
  },
  {
   "cell_type": "code",
   "execution_count": 5,
   "source": [
    "model = keras.models.Sequential()\r\n",
    "\r\n",
    "model.add(keras.layers.Flatten(input_shape=[28, 28]))\r\n",
    "model.add(keras.layers.Dense(256, activation=\"relu\"))\r\n",
    "model.add(keras.layers.Dense(128, activation=\"relu\"))\r\n",
    "model.add(keras.layers.Dense(10, activation=\"softmax\"))"
   ],
   "outputs": [],
   "metadata": {}
  },
  {
   "cell_type": "code",
   "execution_count": 6,
   "source": [
    "model.summary()"
   ],
   "outputs": [
    {
     "output_type": "stream",
     "name": "stdout",
     "text": [
      "Model: \"sequential\"\n",
      "_________________________________________________________________\n",
      "Layer (type)                 Output Shape              Param #   \n",
      "=================================================================\n",
      "flatten (Flatten)            (None, 784)               0         \n",
      "_________________________________________________________________\n",
      "dense (Dense)                (None, 256)               200960    \n",
      "_________________________________________________________________\n",
      "dense_1 (Dense)              (None, 128)               32896     \n",
      "_________________________________________________________________\n",
      "dense_2 (Dense)              (None, 10)                1290      \n",
      "=================================================================\n",
      "Total params: 235,146\n",
      "Trainable params: 235,146\n",
      "Non-trainable params: 0\n",
      "_________________________________________________________________\n"
     ]
    }
   ],
   "metadata": {}
  },
  {
   "cell_type": "code",
   "execution_count": null,
   "source": [],
   "outputs": [],
   "metadata": {}
  },
  {
   "cell_type": "code",
   "execution_count": 12,
   "source": [
    "from tensorflow.keras.utils import plot_model\r\n",
    "\r\n",
    "plot_model(model, to_file='model_plot.png', show_shapes=True, show_layer_names=True)"
   ],
   "outputs": [
    {
     "output_type": "stream",
     "name": "stdout",
     "text": [
      "Failed to import pydot. You must install pydot and graphviz for `pydotprint` to work.\n"
     ]
    }
   ],
   "metadata": {}
  },
  {
   "cell_type": "code",
   "execution_count": 13,
   "source": [
    "model.compile(loss=\"sparse_categorical_crossentropy\", optimizer=\"sgd\",\r\n",
    "              metrics=[\"accuracy\"])"
   ],
   "outputs": [],
   "metadata": {}
  },
  {
   "cell_type": "code",
   "execution_count": 14,
   "source": [
    "history = model.fit(X_train, y_train, epochs=20, validation_data=(X_valid, y_valid))"
   ],
   "outputs": [
    {
     "output_type": "stream",
     "name": "stdout",
     "text": [
      "Epoch 1/20\n",
      "1719/1719 [==============================] - 11s 6ms/step - loss: 0.6156 - accuracy: 0.8417 - val_loss: 0.3096 - val_accuracy: 0.9122\n",
      "Epoch 2/20\n",
      "1719/1719 [==============================] - 22s 13ms/step - loss: 0.2932 - accuracy: 0.9161 - val_loss: 0.2425 - val_accuracy: 0.9336\n",
      "Epoch 3/20\n",
      "1719/1719 [==============================] - 21s 12ms/step - loss: 0.2426 - accuracy: 0.9306 - val_loss: 0.2115 - val_accuracy: 0.9448\n",
      "Epoch 4/20\n",
      "1719/1719 [==============================] - 21s 12ms/step - loss: 0.2081 - accuracy: 0.9411 - val_loss: 0.1840 - val_accuracy: 0.9486\n",
      "Epoch 5/20\n",
      "1719/1719 [==============================] - 22s 13ms/step - loss: 0.1817 - accuracy: 0.9487 - val_loss: 0.1625 - val_accuracy: 0.9582\n",
      "Epoch 6/20\n",
      "1719/1719 [==============================] - 22s 13ms/step - loss: 0.1613 - accuracy: 0.9542 - val_loss: 0.1552 - val_accuracy: 0.9596\n",
      "Epoch 7/20\n",
      "1719/1719 [==============================] - 22s 13ms/step - loss: 0.1445 - accuracy: 0.9590 - val_loss: 0.1363 - val_accuracy: 0.9640\n",
      "Epoch 8/20\n",
      "1719/1719 [==============================] - 7s 4ms/step - loss: 0.1306 - accuracy: 0.9636 - val_loss: 0.1267 - val_accuracy: 0.9646\n",
      "Epoch 9/20\n",
      "1719/1719 [==============================] - 16s 9ms/step - loss: 0.1188 - accuracy: 0.9667 - val_loss: 0.1237 - val_accuracy: 0.9656\n",
      "Epoch 10/20\n",
      "1719/1719 [==============================] - 22s 13ms/step - loss: 0.1090 - accuracy: 0.9694 - val_loss: 0.1130 - val_accuracy: 0.9684\n",
      "Epoch 11/20\n",
      "1719/1719 [==============================] - 22s 13ms/step - loss: 0.1003 - accuracy: 0.9722 - val_loss: 0.1053 - val_accuracy: 0.9708\n",
      "Epoch 12/20\n",
      "1719/1719 [==============================] - 21s 12ms/step - loss: 0.0928 - accuracy: 0.9741 - val_loss: 0.1029 - val_accuracy: 0.9724\n",
      "Epoch 13/20\n",
      "1719/1719 [==============================] - 15s 9ms/step - loss: 0.0860 - accuracy: 0.9759 - val_loss: 0.0985 - val_accuracy: 0.9716\n",
      "Epoch 14/20\n",
      "1719/1719 [==============================] - 24s 14ms/step - loss: 0.0797 - accuracy: 0.9779 - val_loss: 0.0928 - val_accuracy: 0.9744\n",
      "Epoch 15/20\n",
      "1719/1719 [==============================] - 23s 13ms/step - loss: 0.0745 - accuracy: 0.9789 - val_loss: 0.0883 - val_accuracy: 0.9770\n",
      "Epoch 16/20\n",
      "1719/1719 [==============================] - 22s 13ms/step - loss: 0.0695 - accuracy: 0.9806 - val_loss: 0.0857 - val_accuracy: 0.9776\n",
      "Epoch 17/20\n",
      "1719/1719 [==============================] - 22s 13ms/step - loss: 0.0650 - accuracy: 0.9823 - val_loss: 0.0846 - val_accuracy: 0.9760\n",
      "Epoch 18/20\n",
      "1719/1719 [==============================] - 11s 6ms/step - loss: 0.0607 - accuracy: 0.9837 - val_loss: 0.0855 - val_accuracy: 0.9760\n",
      "Epoch 19/20\n",
      "1719/1719 [==============================] - 21s 12ms/step - loss: 0.0571 - accuracy: 0.9846 - val_loss: 0.0786 - val_accuracy: 0.9784\n",
      "Epoch 20/20\n",
      "1719/1719 [==============================] - 21s 12ms/step - loss: 0.0537 - accuracy: 0.9857 - val_loss: 0.0797 - val_accuracy: 0.9778\n"
     ]
    }
   ],
   "metadata": {}
  },
  {
   "cell_type": "code",
   "execution_count": 15,
   "source": [
    "import pandas as pd\r\n",
    "import matplotlib.pyplot as plt\r\n",
    "\r\n",
    "pd.DataFrame(history.history).plot(figsize=(8, 5))\r\n",
    "plt.grid(True)\r\n",
    "plt.gca().set_ylim(0, 1) \r\n",
    "plt.show()"
   ],
   "outputs": [
    {
     "output_type": "display_data",
     "data": {
      "image/png": "[encoded data removed]",
      "text/plain": [
       "<Figure size 576x360 with 1 Axes>"
      ]
     },
     "metadata": {
      "needs_background": "light"
     }
    }
   ],
   "metadata": {}
  },
  {
   "cell_type": "markdown",
   "source": [
    "## Creating Functional API model:"
   ],
   "metadata": {}
  },
  {
   "cell_type": "code",
   "execution_count": null,
   "source": [],
   "outputs": [],
   "metadata": {}
  },
  {
   "cell_type": "code",
   "execution_count": 14,
   "source": [
    "input_ = keras.layers.Input(shape=[28, 28])\r\n",
    "flatten = keras.layers.Flatten(input_shape=[28, 28])(input_)\r\n",
    "hidden1 = keras.layers.Dense(2**14, activation=\"relu\")(flatten)\r\n",
    "hidden2 = keras.layers.Dense(512, activation='relu')(hidden1)\r\n",
    "hidden3 = keras.layers.Dense(28*28, activation='relu')(hidden2)\r\n",
    "reshap = keras.layers.Reshape((28, 28))(hidden3)\r\n",
    "concat_ = keras.layers.Concatenate()([input_, reshap])\r\n",
    "flatten2 = keras.layers.Flatten(input_shape=[28, 28])(concat_)\r\n",
    "output = keras.layers.Dense(10, activation='softmax')(flatten2)\r\n",
    "model = keras.Model(inputs=[input_], outputs=[output] )"
   ],
   "outputs": [],
   "metadata": {}
  },
  {
   "cell_type": "code",
   "execution_count": 15,
   "source": [
    "model.summary()"
   ],
   "outputs": [
    {
     "output_type": "stream",
     "name": "stdout",
     "text": [
      "Model: \"model\"\n",
      "__________________________________________________________________________________________________\n",
      "Layer (type)                    Output Shape         Param #     Connected to                     \n",
      "==================================================================================================\n",
      "input_1 (InputLayer)            [(None, 28, 28)]     0                                            \n",
      "__________________________________________________________________________________________________\n",
      "flatten_1 (Flatten)             (None, 784)          0           input_1[0][0]                    \n",
      "__________________________________________________________________________________________________\n",
      "dense_3 (Dense)                 (None, 16384)        12861440    flatten_1[0][0]                  \n",
      "__________________________________________________________________________________________________\n",
      "dense_4 (Dense)                 (None, 512)          8389120     dense_3[0][0]                    \n",
      "__________________________________________________________________________________________________\n",
      "dense_5 (Dense)                 (None, 784)          402192      dense_4[0][0]                    \n",
      "__________________________________________________________________________________________________\n",
      "reshape (Reshape)               (None, 28, 28)       0           dense_5[0][0]                    \n",
      "__________________________________________________________________________________________________\n",
      "concatenate (Concatenate)       (None, 28, 56)       0           input_1[0][0]                    \n",
      "                                                                 reshape[0][0]                    \n",
      "__________________________________________________________________________________________________\n",
      "flatten_2 (Flatten)             (None, 1568)         0           concatenate[0][0]                \n",
      "__________________________________________________________________________________________________\n",
      "dense_6 (Dense)                 (None, 10)           15690       flatten_2[0][0]                  \n",
      "==================================================================================================\n",
      "Total params: 21,668,442\n",
      "Trainable params: 21,668,442\n",
      "Non-trainable params: 0\n",
      "__________________________________________________________________________________________________\n"
     ]
    }
   ],
   "metadata": {}
  },
  {
   "cell_type": "code",
   "execution_count": 16,
   "source": [
    "from tensorflow.keras.utils import plot_model\r\n",
    "\r\n",
    "plot_model(model, to_file='model_plot.png', show_shapes=True, show_layer_names=True)"
   ],
   "outputs": [
    {
     "output_type": "stream",
     "name": "stdout",
     "text": [
      "Failed to import pydot. You must install pydot and graphviz for `pydotprint` to work.\n"
     ]
    }
   ],
   "metadata": {}
  },
  {
   "cell_type": "code",
   "execution_count": 17,
   "source": [
    "model.compile(loss=\"sparse_categorical_crossentropy\", optimizer=\"sgd\",\r\n",
    "              metrics=[\"accuracy\"])\r\n",
    "h = model.fit(X_train, y_train, epochs=10, validation_data=(X_valid, y_valid))"
   ],
   "outputs": [
    {
     "output_type": "stream",
     "name": "stdout",
     "text": [
      "Epoch 1/10\n",
      "1719/1719 [==============================] - 606s 352ms/step - loss: 0.5756 - accuracy: 0.8591 - val_loss: 0.2919 - val_accuracy: 0.9200\n",
      "Epoch 2/10\n",
      " 475/1719 [=======>......................] - ETA: 7:09 - loss: 0.2851 - accuracy: 0.9180"
     ]
    },
    {
     "output_type": "error",
     "ename": "KeyboardInterrupt",
     "evalue": "",
     "traceback": [
      "\u001b[1;31m---------------------------------------------------------------------------\u001b[0m",
      "\u001b[1;31mKeyboardInterrupt\u001b[0m                         Traceback (most recent call last)",
      "\u001b[1;32m<ipython-input-17-6377a8c13223>\u001b[0m in \u001b[0;36m<module>\u001b[1;34m\u001b[0m\n\u001b[0;32m      1\u001b[0m model.compile(loss=\"sparse_categorical_crossentropy\", optimizer=\"sgd\",\n\u001b[0;32m      2\u001b[0m               metrics=[\"accuracy\"])\n\u001b[1;32m----> 3\u001b[1;33m \u001b[0mh\u001b[0m \u001b[1;33m=\u001b[0m \u001b[0mmodel\u001b[0m\u001b[1;33m.\u001b[0m\u001b[0mfit\u001b[0m\u001b[1;33m(\u001b[0m\u001b[0mX_train\u001b[0m\u001b[1;33m,\u001b[0m \u001b[0my_train\u001b[0m\u001b[1;33m,\u001b[0m \u001b[0mepochs\u001b[0m\u001b[1;33m=\u001b[0m\u001b[1;36m10\u001b[0m\u001b[1;33m,\u001b[0m \u001b[0mvalidation_data\u001b[0m\u001b[1;33m=\u001b[0m\u001b[1;33m(\u001b[0m\u001b[0mX_valid\u001b[0m\u001b[1;33m,\u001b[0m \u001b[0my_valid\u001b[0m\u001b[1;33m)\u001b[0m\u001b[1;33m)\u001b[0m\u001b[1;33m\u001b[0m\u001b[1;33m\u001b[0m\u001b[0m\n\u001b[0m",
      "\u001b[1;32mC:\\ProgramData\\Anaconda3\\lib\\site-packages\\tensorflow\\python\\keras\\engine\\training.py\u001b[0m in \u001b[0;36m_method_wrapper\u001b[1;34m(self, *args, **kwargs)\u001b[0m\n\u001b[0;32m     64\u001b[0m   \u001b[1;32mdef\u001b[0m \u001b[0m_method_wrapper\u001b[0m\u001b[1;33m(\u001b[0m\u001b[0mself\u001b[0m\u001b[1;33m,\u001b[0m \u001b[1;33m*\u001b[0m\u001b[0margs\u001b[0m\u001b[1;33m,\u001b[0m \u001b[1;33m**\u001b[0m\u001b[0mkwargs\u001b[0m\u001b[1;33m)\u001b[0m\u001b[1;33m:\u001b[0m\u001b[1;33m\u001b[0m\u001b[1;33m\u001b[0m\u001b[0m\n\u001b[0;32m     65\u001b[0m     \u001b[1;32mif\u001b[0m \u001b[1;32mnot\u001b[0m \u001b[0mself\u001b[0m\u001b[1;33m.\u001b[0m\u001b[0m_in_multi_worker_mode\u001b[0m\u001b[1;33m(\u001b[0m\u001b[1;33m)\u001b[0m\u001b[1;33m:\u001b[0m  \u001b[1;31m# pylint: disable=protected-access\u001b[0m\u001b[1;33m\u001b[0m\u001b[1;33m\u001b[0m\u001b[0m\n\u001b[1;32m---> 66\u001b[1;33m       \u001b[1;32mreturn\u001b[0m \u001b[0mmethod\u001b[0m\u001b[1;33m(\u001b[0m\u001b[0mself\u001b[0m\u001b[1;33m,\u001b[0m \u001b[1;33m*\u001b[0m\u001b[0margs\u001b[0m\u001b[1;33m,\u001b[0m \u001b[1;33m**\u001b[0m\u001b[0mkwargs\u001b[0m\u001b[1;33m)\u001b[0m\u001b[1;33m\u001b[0m\u001b[1;33m\u001b[0m\u001b[0m\n\u001b[0m\u001b[0;32m     67\u001b[0m \u001b[1;33m\u001b[0m\u001b[0m\n\u001b[0;32m     68\u001b[0m     \u001b[1;31m# Running inside `run_distribute_coordinator` already.\u001b[0m\u001b[1;33m\u001b[0m\u001b[1;33m\u001b[0m\u001b[1;33m\u001b[0m\u001b[0m\n",
      "\u001b[1;32mC:\\ProgramData\\Anaconda3\\lib\\site-packages\\tensorflow\\python\\keras\\engine\\training.py\u001b[0m in \u001b[0;36mfit\u001b[1;34m(self, x, y, batch_size, epochs, verbose, callbacks, validation_split, validation_data, shuffle, class_weight, sample_weight, initial_epoch, steps_per_epoch, validation_steps, validation_batch_size, validation_freq, max_queue_size, workers, use_multiprocessing)\u001b[0m\n\u001b[0;32m    846\u001b[0m                 batch_size=batch_size):\n\u001b[0;32m    847\u001b[0m               \u001b[0mcallbacks\u001b[0m\u001b[1;33m.\u001b[0m\u001b[0mon_train_batch_begin\u001b[0m\u001b[1;33m(\u001b[0m\u001b[0mstep\u001b[0m\u001b[1;33m)\u001b[0m\u001b[1;33m\u001b[0m\u001b[1;33m\u001b[0m\u001b[0m\n\u001b[1;32m--> 848\u001b[1;33m               \u001b[0mtmp_logs\u001b[0m \u001b[1;33m=\u001b[0m \u001b[0mtrain_function\u001b[0m\u001b[1;33m(\u001b[0m\u001b[0miterator\u001b[0m\u001b[1;33m)\u001b[0m\u001b[1;33m\u001b[0m\u001b[1;33m\u001b[0m\u001b[0m\n\u001b[0m\u001b[0;32m    849\u001b[0m               \u001b[1;31m# Catch OutOfRangeError for Datasets of unknown size.\u001b[0m\u001b[1;33m\u001b[0m\u001b[1;33m\u001b[0m\u001b[1;33m\u001b[0m\u001b[0m\n\u001b[0;32m    850\u001b[0m               \u001b[1;31m# This blocks until the batch has finished executing.\u001b[0m\u001b[1;33m\u001b[0m\u001b[1;33m\u001b[0m\u001b[1;33m\u001b[0m\u001b[0m\n",
      "\u001b[1;32mC:\\ProgramData\\Anaconda3\\lib\\site-packages\\tensorflow\\python\\eager\\def_function.py\u001b[0m in \u001b[0;36m__call__\u001b[1;34m(self, *args, **kwds)\u001b[0m\n\u001b[0;32m    578\u001b[0m         \u001b[0mxla_context\u001b[0m\u001b[1;33m.\u001b[0m\u001b[0mExit\u001b[0m\u001b[1;33m(\u001b[0m\u001b[1;33m)\u001b[0m\u001b[1;33m\u001b[0m\u001b[1;33m\u001b[0m\u001b[0m\n\u001b[0;32m    579\u001b[0m     \u001b[1;32melse\u001b[0m\u001b[1;33m:\u001b[0m\u001b[1;33m\u001b[0m\u001b[1;33m\u001b[0m\u001b[0m\n\u001b[1;32m--> 580\u001b[1;33m       \u001b[0mresult\u001b[0m \u001b[1;33m=\u001b[0m \u001b[0mself\u001b[0m\u001b[1;33m.\u001b[0m\u001b[0m_call\u001b[0m\u001b[1;33m(\u001b[0m\u001b[1;33m*\u001b[0m\u001b[0margs\u001b[0m\u001b[1;33m,\u001b[0m \u001b[1;33m**\u001b[0m\u001b[0mkwds\u001b[0m\u001b[1;33m)\u001b[0m\u001b[1;33m\u001b[0m\u001b[1;33m\u001b[0m\u001b[0m\n\u001b[0m\u001b[0;32m    581\u001b[0m \u001b[1;33m\u001b[0m\u001b[0m\n\u001b[0;32m    582\u001b[0m     \u001b[1;32mif\u001b[0m \u001b[0mtracing_count\u001b[0m \u001b[1;33m==\u001b[0m \u001b[0mself\u001b[0m\u001b[1;33m.\u001b[0m\u001b[0m_get_tracing_count\u001b[0m\u001b[1;33m(\u001b[0m\u001b[1;33m)\u001b[0m\u001b[1;33m:\u001b[0m\u001b[1;33m\u001b[0m\u001b[1;33m\u001b[0m\u001b[0m\n",
      "\u001b[1;32mC:\\ProgramData\\Anaconda3\\lib\\site-packages\\tensorflow\\python\\eager\\def_function.py\u001b[0m in \u001b[0;36m_call\u001b[1;34m(self, *args, **kwds)\u001b[0m\n\u001b[0;32m    609\u001b[0m       \u001b[1;31m# In this case we have created variables on the first call, so we run the\u001b[0m\u001b[1;33m\u001b[0m\u001b[1;33m\u001b[0m\u001b[1;33m\u001b[0m\u001b[0m\n\u001b[0;32m    610\u001b[0m       \u001b[1;31m# defunned version which is guaranteed to never create variables.\u001b[0m\u001b[1;33m\u001b[0m\u001b[1;33m\u001b[0m\u001b[1;33m\u001b[0m\u001b[0m\n\u001b[1;32m--> 611\u001b[1;33m       \u001b[1;32mreturn\u001b[0m \u001b[0mself\u001b[0m\u001b[1;33m.\u001b[0m\u001b[0m_stateless_fn\u001b[0m\u001b[1;33m(\u001b[0m\u001b[1;33m*\u001b[0m\u001b[0margs\u001b[0m\u001b[1;33m,\u001b[0m \u001b[1;33m**\u001b[0m\u001b[0mkwds\u001b[0m\u001b[1;33m)\u001b[0m  \u001b[1;31m# pylint: disable=not-callable\u001b[0m\u001b[1;33m\u001b[0m\u001b[1;33m\u001b[0m\u001b[0m\n\u001b[0m\u001b[0;32m    612\u001b[0m     \u001b[1;32melif\u001b[0m \u001b[0mself\u001b[0m\u001b[1;33m.\u001b[0m\u001b[0m_stateful_fn\u001b[0m \u001b[1;32mis\u001b[0m \u001b[1;32mnot\u001b[0m \u001b[1;32mNone\u001b[0m\u001b[1;33m:\u001b[0m\u001b[1;33m\u001b[0m\u001b[1;33m\u001b[0m\u001b[0m\n\u001b[0;32m    613\u001b[0m       \u001b[1;31m# Release the lock early so that multiple threads can perform the call\u001b[0m\u001b[1;33m\u001b[0m\u001b[1;33m\u001b[0m\u001b[1;33m\u001b[0m\u001b[0m\n",
      "\u001b[1;32mC:\\ProgramData\\Anaconda3\\lib\\site-packages\\tensorflow\\python\\eager\\function.py\u001b[0m in \u001b[0;36m__call__\u001b[1;34m(self, *args, **kwargs)\u001b[0m\n\u001b[0;32m   2418\u001b[0m     \u001b[1;32mwith\u001b[0m \u001b[0mself\u001b[0m\u001b[1;33m.\u001b[0m\u001b[0m_lock\u001b[0m\u001b[1;33m:\u001b[0m\u001b[1;33m\u001b[0m\u001b[1;33m\u001b[0m\u001b[0m\n\u001b[0;32m   2419\u001b[0m       \u001b[0mgraph_function\u001b[0m\u001b[1;33m,\u001b[0m \u001b[0margs\u001b[0m\u001b[1;33m,\u001b[0m \u001b[0mkwargs\u001b[0m \u001b[1;33m=\u001b[0m \u001b[0mself\u001b[0m\u001b[1;33m.\u001b[0m\u001b[0m_maybe_define_function\u001b[0m\u001b[1;33m(\u001b[0m\u001b[0margs\u001b[0m\u001b[1;33m,\u001b[0m \u001b[0mkwargs\u001b[0m\u001b[1;33m)\u001b[0m\u001b[1;33m\u001b[0m\u001b[1;33m\u001b[0m\u001b[0m\n\u001b[1;32m-> 2420\u001b[1;33m     \u001b[1;32mreturn\u001b[0m \u001b[0mgraph_function\u001b[0m\u001b[1;33m.\u001b[0m\u001b[0m_filtered_call\u001b[0m\u001b[1;33m(\u001b[0m\u001b[0margs\u001b[0m\u001b[1;33m,\u001b[0m \u001b[0mkwargs\u001b[0m\u001b[1;33m)\u001b[0m  \u001b[1;31m# pylint: disable=protected-access\u001b[0m\u001b[1;33m\u001b[0m\u001b[1;33m\u001b[0m\u001b[0m\n\u001b[0m\u001b[0;32m   2421\u001b[0m \u001b[1;33m\u001b[0m\u001b[0m\n\u001b[0;32m   2422\u001b[0m   \u001b[1;33m@\u001b[0m\u001b[0mproperty\u001b[0m\u001b[1;33m\u001b[0m\u001b[1;33m\u001b[0m\u001b[0m\n",
      "\u001b[1;32mC:\\ProgramData\\Anaconda3\\lib\\site-packages\\tensorflow\\python\\eager\\function.py\u001b[0m in \u001b[0;36m_filtered_call\u001b[1;34m(self, args, kwargs)\u001b[0m\n\u001b[0;32m   1659\u001b[0m       \u001b[0;31m`\u001b[0m\u001b[0margs\u001b[0m\u001b[0;31m`\u001b[0m \u001b[1;32mand\u001b[0m\u001b[0;31m \u001b[0m\u001b[0;31m`\u001b[0m\u001b[0mkwargs\u001b[0m\u001b[0;31m`\u001b[0m\u001b[1;33m.\u001b[0m\u001b[1;33m\u001b[0m\u001b[1;33m\u001b[0m\u001b[0m\n\u001b[0;32m   1660\u001b[0m     \"\"\"\n\u001b[1;32m-> 1661\u001b[1;33m     return self._call_flat(\n\u001b[0m\u001b[0;32m   1662\u001b[0m         (t for t in nest.flatten((args, kwargs), expand_composites=True)\n\u001b[0;32m   1663\u001b[0m          if isinstance(t, (ops.Tensor,\n",
      "\u001b[1;32mC:\\ProgramData\\Anaconda3\\lib\\site-packages\\tensorflow\\python\\eager\\function.py\u001b[0m in \u001b[0;36m_call_flat\u001b[1;34m(self, args, captured_inputs, cancellation_manager)\u001b[0m\n\u001b[0;32m   1743\u001b[0m         and executing_eagerly):\n\u001b[0;32m   1744\u001b[0m       \u001b[1;31m# No tape is watching; skip to running the function.\u001b[0m\u001b[1;33m\u001b[0m\u001b[1;33m\u001b[0m\u001b[1;33m\u001b[0m\u001b[0m\n\u001b[1;32m-> 1745\u001b[1;33m       return self._build_call_outputs(self._inference_function.call(\n\u001b[0m\u001b[0;32m   1746\u001b[0m           ctx, args, cancellation_manager=cancellation_manager))\n\u001b[0;32m   1747\u001b[0m     forward_backward = self._select_forward_and_backward_functions(\n",
      "\u001b[1;32mC:\\ProgramData\\Anaconda3\\lib\\site-packages\\tensorflow\\python\\eager\\function.py\u001b[0m in \u001b[0;36mcall\u001b[1;34m(self, ctx, args, cancellation_manager)\u001b[0m\n\u001b[0;32m    591\u001b[0m       \u001b[1;32mwith\u001b[0m \u001b[0m_InterpolateFunctionError\u001b[0m\u001b[1;33m(\u001b[0m\u001b[0mself\u001b[0m\u001b[1;33m)\u001b[0m\u001b[1;33m:\u001b[0m\u001b[1;33m\u001b[0m\u001b[1;33m\u001b[0m\u001b[0m\n\u001b[0;32m    592\u001b[0m         \u001b[1;32mif\u001b[0m \u001b[0mcancellation_manager\u001b[0m \u001b[1;32mis\u001b[0m \u001b[1;32mNone\u001b[0m\u001b[1;33m:\u001b[0m\u001b[1;33m\u001b[0m\u001b[1;33m\u001b[0m\u001b[0m\n\u001b[1;32m--> 593\u001b[1;33m           outputs = execute.execute(\n\u001b[0m\u001b[0;32m    594\u001b[0m               \u001b[0mstr\u001b[0m\u001b[1;33m(\u001b[0m\u001b[0mself\u001b[0m\u001b[1;33m.\u001b[0m\u001b[0msignature\u001b[0m\u001b[1;33m.\u001b[0m\u001b[0mname\u001b[0m\u001b[1;33m)\u001b[0m\u001b[1;33m,\u001b[0m\u001b[1;33m\u001b[0m\u001b[1;33m\u001b[0m\u001b[0m\n\u001b[0;32m    595\u001b[0m               \u001b[0mnum_outputs\u001b[0m\u001b[1;33m=\u001b[0m\u001b[0mself\u001b[0m\u001b[1;33m.\u001b[0m\u001b[0m_num_outputs\u001b[0m\u001b[1;33m,\u001b[0m\u001b[1;33m\u001b[0m\u001b[1;33m\u001b[0m\u001b[0m\n",
      "\u001b[1;32mC:\\ProgramData\\Anaconda3\\lib\\site-packages\\tensorflow\\python\\eager\\execute.py\u001b[0m in \u001b[0;36mquick_execute\u001b[1;34m(op_name, num_outputs, inputs, attrs, ctx, name)\u001b[0m\n\u001b[0;32m     57\u001b[0m   \u001b[1;32mtry\u001b[0m\u001b[1;33m:\u001b[0m\u001b[1;33m\u001b[0m\u001b[1;33m\u001b[0m\u001b[0m\n\u001b[0;32m     58\u001b[0m     \u001b[0mctx\u001b[0m\u001b[1;33m.\u001b[0m\u001b[0mensure_initialized\u001b[0m\u001b[1;33m(\u001b[0m\u001b[1;33m)\u001b[0m\u001b[1;33m\u001b[0m\u001b[1;33m\u001b[0m\u001b[0m\n\u001b[1;32m---> 59\u001b[1;33m     tensors = pywrap_tfe.TFE_Py_Execute(ctx._handle, device_name, op_name,\n\u001b[0m\u001b[0;32m     60\u001b[0m                                         inputs, attrs, num_outputs)\n\u001b[0;32m     61\u001b[0m   \u001b[1;32mexcept\u001b[0m \u001b[0mcore\u001b[0m\u001b[1;33m.\u001b[0m\u001b[0m_NotOkStatusException\u001b[0m \u001b[1;32mas\u001b[0m \u001b[0me\u001b[0m\u001b[1;33m:\u001b[0m\u001b[1;33m\u001b[0m\u001b[1;33m\u001b[0m\u001b[0m\n",
      "\u001b[1;31mKeyboardInterrupt\u001b[0m: "
     ]
    }
   ],
   "metadata": {}
  },
  {
   "cell_type": "code",
   "execution_count": null,
   "source": [
    "model.compile(loss=\"sparse_categorical_crossentropy\", optimizer=\"sgd\",\r\n",
    "              metrics=[\"accuracy\"])"
   ],
   "outputs": [],
   "metadata": {}
  },
  {
   "cell_type": "code",
   "execution_count": null,
   "source": [
    "history = model.fit(X_train, y_train, epochs=20, validation_data=(X_valid, y_valid))"
   ],
   "outputs": [],
   "metadata": {}
  },
  {
   "cell_type": "code",
   "execution_count": null,
   "source": [
    "\r\n",
    "pd.DataFrame(history.history).plot(figsize=(8, 5))\r\n",
    "plt.grid(True)\r\n",
    "plt.gca().set_ylim(0, 1) \r\n",
    "plt.show()"
   ],
   "outputs": [],
   "metadata": {}
  },
  {
   "cell_type": "code",
   "execution_count": null,
   "source": [],
   "outputs": [],
   "metadata": {}
  },
  {
   "cell_type": "code",
   "execution_count": 16,
   "source": [
    "input_A = keras.layers.Input(shape=[28, 28])\r\n",
    "input_B = keras.layers.Input(shape=[28, 28])\r\n",
    "\r\n",
    "flatten = keras.layers.Flatten(input_shape=[28, 28])(input_A)\r\n",
    "hidden1 = keras.layers.Dense(2**14, activation=\"relu\")(flatten)\r\n",
    "hidden2 = keras.layers.Dense(512, activation='relu')(hidden1)\r\n",
    "hidden3 = keras.layers.Dense(28*28, activation='relu')(hidden2)\r\n",
    "reshap = keras.layers.Reshape((28, 28))(hidden3)\r\n",
    "concat_A = keras.layers.Concatenate()([input_A, reshap])\r\n",
    "flatten_A = keras.layers.Flatten(input_shape=[28, 28])(concat_A)\r\n",
    "output = keras.layers.Dense(10, activation='softmax')(flatten_A)\r\n",
    "\r\n",
    "\r\n",
    "concat_B = keras.layers.Concatenate()([input_B, reshap])\r\n",
    "flatten_B = keras.layers.Flatten(input_shape=[28, 28])(concat_B)\r\n",
    "\r\n",
    "hidden_B = keras.layers.Dense(512, activation='relu')(flatten_B)\r\n",
    "output_2nd = keras.layers.Dense(10, activation='softmax')(hidden_B)"
   ],
   "outputs": [],
   "metadata": {}
  },
  {
   "cell_type": "code",
   "execution_count": 17,
   "source": [
    "X_train_A, X_train_B = X_train[:-27500], X_train[-27500:]\r\n",
    "y_train_A, y_train_B = y_train[:-27500], y_train[-27500:]"
   ],
   "outputs": [],
   "metadata": {}
  },
  {
   "cell_type": "code",
   "execution_count": 18,
   "source": [
    "model = keras.Model(inputs=[input_A, input_B], outputs=[output, output_2nd])"
   ],
   "outputs": [],
   "metadata": {}
  },
  {
   "cell_type": "code",
   "execution_count": 19,
   "source": [
    "model.compile(loss=[\"sparse_categorical_crossentropy\", \"sparse_categorical_crossentropy\"],\r\n",
    "                     optimizer=\"sgd\", metrics=[\"accuracy\"])\r\n",
    "\r\n",
    "h = model.fit([X_train_A, X_train_B], [y_train_A, y_train_B], epochs=10, validation_split= 0.2 )\r\n"
   ],
   "outputs": [
    {
     "output_type": "stream",
     "name": "stdout",
     "text": [
      "Epoch 1/10\n",
      "688/688 [==============================] - 315s 458ms/step - loss: 1.8308 - dense_6_loss: 0.9036 - dense_8_loss: 0.9271 - dense_6_accuracy: 0.7957 - dense_8_accuracy: 0.7910 - val_loss: 0.9815 - val_dense_6_loss: 0.5296 - val_dense_8_loss: 0.4519 - val_dense_6_accuracy: 0.8633 - val_dense_8_accuracy: 0.8916\n",
      "Epoch 2/10\n",
      "688/688 [==============================] - 299s 435ms/step - loss: 0.8505 - dense_6_loss: 0.3957 - dense_8_loss: 0.4548 - dense_6_accuracy: 0.8970 - dense_8_accuracy: 0.8775 - val_loss: 0.7333 - val_dense_6_loss: 0.3903 - val_dense_8_loss: 0.3430 - val_dense_6_accuracy: 0.8860 - val_dense_8_accuracy: 0.9102\n",
      "Epoch 3/10\n",
      "688/688 [==============================] - 307s 446ms/step - loss: 0.6937 - dense_6_loss: 0.3109 - dense_8_loss: 0.3828 - dense_6_accuracy: 0.9153 - dense_8_accuracy: 0.8927 - val_loss: 0.6408 - val_dense_6_loss: 0.3316 - val_dense_8_loss: 0.3092 - val_dense_6_accuracy: 0.9005 - val_dense_8_accuracy: 0.9193\n",
      "Epoch 4/10\n",
      "688/688 [==============================] - 301s 437ms/step - loss: 0.6128 - dense_6_loss: 0.2661 - dense_8_loss: 0.3467 - dense_6_accuracy: 0.9263 - dense_8_accuracy: 0.9022 - val_loss: 0.5789 - val_dense_6_loss: 0.2938 - val_dense_8_loss: 0.2850 - val_dense_6_accuracy: 0.9122 - val_dense_8_accuracy: 0.9227\n",
      "Epoch 5/10\n",
      "688/688 [==============================] - 272s 395ms/step - loss: 0.5547 - dense_6_loss: 0.2338 - dense_8_loss: 0.3210 - dense_6_accuracy: 0.9353 - dense_8_accuracy: 0.9082 - val_loss: 0.5400 - val_dense_6_loss: 0.2702 - val_dense_8_loss: 0.2698 - val_dense_6_accuracy: 0.9195 - val_dense_8_accuracy: 0.9262\n",
      "Epoch 6/10\n",
      "688/688 [==============================] - 227s 329ms/step - loss: 0.5095 - dense_6_loss: 0.2070 - dense_8_loss: 0.3025 - dense_6_accuracy: 0.9419 - dense_8_accuracy: 0.9134 - val_loss: 0.5158 - val_dense_6_loss: 0.2473 - val_dense_8_loss: 0.2685 - val_dense_6_accuracy: 0.9251 - val_dense_8_accuracy: 0.9227\n",
      "Epoch 7/10\n",
      "688/688 [==============================] - 298s 433ms/step - loss: 0.4705 - dense_6_loss: 0.1846 - dense_8_loss: 0.2859 - dense_6_accuracy: 0.9478 - dense_8_accuracy: 0.9193 - val_loss: 0.4864 - val_dense_6_loss: 0.2370 - val_dense_8_loss: 0.2494 - val_dense_6_accuracy: 0.9313 - val_dense_8_accuracy: 0.9338\n",
      "Epoch 8/10\n",
      "688/688 [==============================] - 282s 410ms/step - loss: 0.4360 - dense_6_loss: 0.1641 - dense_8_loss: 0.2718 - dense_6_accuracy: 0.9534 - dense_8_accuracy: 0.9241 - val_loss: 0.4547 - val_dense_6_loss: 0.2117 - val_dense_8_loss: 0.2430 - val_dense_6_accuracy: 0.9371 - val_dense_8_accuracy: 0.9311\n",
      "Epoch 9/10\n",
      "688/688 [==============================] - 268s 390ms/step - loss: 0.4070 - dense_6_loss: 0.1467 - dense_8_loss: 0.2603 - dense_6_accuracy: 0.9587 - dense_8_accuracy: 0.9270 - val_loss: 0.4497 - val_dense_6_loss: 0.1943 - val_dense_8_loss: 0.2554 - val_dense_6_accuracy: 0.9418 - val_dense_8_accuracy: 0.9276\n",
      "Epoch 10/10\n",
      "688/688 [==============================] - 280s 408ms/step - loss: 0.3792 - dense_6_loss: 0.1309 - dense_8_loss: 0.2483 - dense_6_accuracy: 0.9638 - dense_8_accuracy: 0.9300 - val_loss: 0.4142 - val_dense_6_loss: 0.1836 - val_dense_8_loss: 0.2306 - val_dense_6_accuracy: 0.9449 - val_dense_8_accuracy: 0.9336\n"
     ]
    }
   ],
   "metadata": {}
  },
  {
   "cell_type": "code",
   "execution_count": null,
   "source": [],
   "outputs": [],
   "metadata": {}
  },
  {
   "cell_type": "code",
   "execution_count": null,
   "source": [],
   "outputs": [],
   "metadata": {}
  }
 ],
 "metadata": {
  "kernelspec": {
   "name": "python3",
   "display_name": "Python 3.8.8 64-bit ('base': conda)"
  },
  "language_info": {
   "codemirror_mode": {
    "name": "ipython",
    "version": 3
   },
   "file_extension": ".py",
   "mimetype": "text/x-python",
   "name": "python",
   "nbconvert_exporter": "python",
   "pygments_lexer": "ipython3",
   "version": "3.8.8"
  },
  "interpreter": {
   "hash": "b3ba2566441a7c06988d0923437866b63cedc61552a5af99d1f4fb67d367b25f"
  }
 },
 "nbformat": 4,
 "nbformat_minor": 4
}